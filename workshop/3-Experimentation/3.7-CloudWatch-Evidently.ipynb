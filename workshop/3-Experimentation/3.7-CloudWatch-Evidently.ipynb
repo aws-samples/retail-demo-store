{
 "cells": [
  {
   "cell_type": "markdown",
   "id": "8ae621fb",
   "metadata": {},
   "source": [
    "# Retail Demo Store Experimentation Workshop - Amazon CloudWatch Evidently\n",
    "\n",
    "In this workshop we will create an A/B experiment using [Amazon CloudWatch Evidently](https://aws.amazon.com/cloudwatch/features/). Evidently lets application developers conduct experiments and identify unintended consequences of new features before rolling them out for general use, thereby reducing risk related to new feature roll-out. Evidently allows you to validate new features across the full application stack before release, which makes for a safer release. When launching new features, you can expose them to a small user base, monitor key metrics such as page load times or conversions, and then dial up traffic. Evidently also allows you to try different designs, collect user data, and release the most effective design in production. \n",
    "\n",
    "Recommended Time: 30 minutes"
   ]
  },
  {
   "cell_type": "markdown",
   "id": "8aeba44c",
   "metadata": {},
   "source": [
    "## CloudWatch Evidently concepts\n",
    "\n",
    "To get started with CloudWatch Evidently, for either a feature launch or an A/B experiment, you first create a project. A project is a logical grouping of resources. Within the project, you create features that have variations that you want to test or launch.\n",
    "\n",
    "When the Retail Demo Store project was deployed in your account, an Evidently project and several Evidently features were automatically created. These resources are defined in the [evidently.yaml](https://github.com/aws-samples/retail-demo-store/blob/master/aws/cloudformation-templates/base/evidently.yaml) CloudFormation stack. Open a new browser window/tab and browse to [CloudWatch](https://console.aws.amazon.com/cloudwatch/home); under \"Application monitoring\" in the left navigation, you will find Evidently.\n",
    "\n",
    "![Evidently Project page](./images/evidently/evidently_project.png)\n",
    "\n",
    "### Retail Demo Store features\n",
    "\n",
    "The following application features are already instrumented in the Retail Demo Store web application as well as mapped to Evidently features in the Evidently project.\n",
    "\n",
    "- \"**Inspired by your shopping trends**\": this is the product grid on the home page view that displays products generated from one of several supported backend recommenders. The feature name is `home_product_recs`.\n",
    "- \"**Featured products**\": this is the carousel widget at the bottom of the home page view where featured products are displayed. The feature name is `home_featured_rerank`.\n",
    "- \"**Compare similar items**\": this the carousel widget on the product detail view that displays products similar to the product being displayed. The feature name is `product_detail_related`.\n",
    "- \"**Search results**\": this is the search drop-down in the web application's navigational header. For this feature, we can test personalized ranking of search results against search results that are ordered by Amazon OpenSearch. The feature name is `search_results`.\n",
    "- \"**Shop livestreams - discounted products**\": this is the sidebar vertical widget on the Shop Livestreams page. It displays discounted products highighted in the live stream.  The feature name is `live_stream_prod_recommendation`.\n",
    "- \"**Shop livestreams - Compare similar items**\": this is the carousel widget at the bottom of the Shop Livestreams page. It displays products similar to the product currently being featured in the live stream. The feature name is `live_stream_prod_discounts`.\n",
    "\n",
    "Click on the Retail Demo Store's project in Evidently to see the Evidently features.\n",
    "\n",
    "![Evidently Features page](./images/evidently/evidently_features.png)"
   ]
  },
  {
   "cell_type": "markdown",
   "id": "884648a9",
   "metadata": {},
   "source": [
    "## Retail Demo Store / CloudWatch Evidently integration\n",
    "\n",
    "![Retail Demo Store Evidently architecture](./images/evidently/rds_evidently_architecture.png)\n",
    "\n",
    "Creating a CloudWatch Evidently experiment\n",
    "\n"
   ]
  },
  {
   "cell_type": "code",
   "execution_count": null,
   "id": "99d9f155",
   "metadata": {},
   "outputs": [],
   "source": []
  }
 ],
 "metadata": {
  "kernelspec": {
   "display_name": "conda_python3",
   "language": "python",
   "name": "conda_python3"
  },
  "language_info": {
   "codemirror_mode": {
    "name": "ipython",
    "version": 3
   },
   "file_extension": ".py",
   "mimetype": "text/x-python",
   "name": "python",
   "nbconvert_exporter": "python",
   "pygments_lexer": "ipython3",
   "version": "3.6.13"
  }
 },
 "nbformat": 4,
 "nbformat_minor": 5
}
