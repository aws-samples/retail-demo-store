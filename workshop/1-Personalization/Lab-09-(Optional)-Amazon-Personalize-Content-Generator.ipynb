{
 "cells": [
  {
   "cell_type": "markdown",
   "id": "f760cf42",
   "metadata": {},
   "source": [
    "# Amazon Personalize Content Generator Workshop - Lab 9\n",
    "\n",
    "In this lab we will create thematic descriptions for related items using the Personalize Content Generator. This capability of Personalize uses generative AI under-the-hood to produce a short and compelling description that captures the most impactful thematic elements for a set of items. The thematic descriptions can then be used as the title or label for a carousel or grid widget used to display related items or as part of the email subject when targeting users who may be interested in the items. These generated descriptions are more compelling alternatives than plain titles. For example, \"Ultimate audio quality for all your listening needs\" for a set of audio products rather than \"Compare similar items\" or \"You may also like\".\n",
    "\n",
    "![Content Genetator](images/retaildemostore-content-generator-ex3.png)\n",
    "\n",
    "The Content Generator uses a model trained with the [Similar-Items](https://docs.aws.amazon.com/personalize/latest/dg/native-recipe-similar-items.html) recipe to identify related items based on a seed item and then uses a large language model (LLM) to generate the thematic description. Although Similar-Items can be used with real-time inference or batch inference, themes can only be generated with batch inference jobs. In addition, using the Content Generator incurs additional cost (see [pricing page](https://aws.amazon.com/personalize/pricing/) for details). For this lab, we will generate themes the similar items for the featured products in the Retail Demo Store catalog.\n",
    "\n",
    "You can read more about the Content Generator in the Personalize [documentation](https://docs.aws.amazon.com/personalize/latest/dg/personalize-with-gen-ai.html#gen-ai-themed-rec) or [blog](https://aws.amazon.com/about-aws/whats-new/2023/11/amazon-personalize-themes-generative-ai/)."
   ]
  },
  {
   "cell_type": "markdown",
   "id": "32e7894f",
   "metadata": {},
   "source": [
    "## Setup\n",
    "\n",
    "The workshop will be using the python programming language and the AWS SDK for python. Even if you are not fluent in python, the code cells should be reasonably intuitive. In practice, you can use any programming language supported by the AWS SDK to complete the same steps from this workshop in your application environment.\n",
    "\n",
    "### Update dependencies\n",
    "\n",
    "To get started, we need to perform a bit of setup. First, we need to ensure that a current version of botocore is locally installed. The botocore library is used by boto3, the AWS SDK library for python. We need a current version to be able to access some of the newer Amazon Personalize features.\n",
    "\n",
    "The following cell will update pip and install the latest botocore library."
   ]
  },
  {
   "cell_type": "code",
   "execution_count": null,
   "id": "2ec5d848",
   "metadata": {},
   "outputs": [],
   "source": [
    "import sys\n",
    "!{sys.executable} -m pip install --upgrade pip numexpr\n",
    "!{sys.executable} -m pip install --upgrade --no-deps --force-reinstall botocore"
   ]
  },
  {
   "cell_type": "markdown",
   "id": "755f56a2",
   "metadata": {},
   "source": [
    "### Import dependencies and prepare clients\n",
    "\n",
    "First we will import the libraries and create the clients needed for this workshop."
   ]
  },
  {
   "cell_type": "code",
   "execution_count": null,
   "id": "7f93a517",
   "metadata": {},
   "outputs": [],
   "source": [
    "# Import dependencies\n",
    "import boto3\n",
    "import json\n",
    "import pandas as pd\n",
    "import numpy\n",
    "import time\n",
    "import requests\n",
    "import botocore\n",
    "from datetime import datetime\n",
    "from IPython.display import display, HTML\n",
    "from packaging import version\n",
    "\n",
    "# Create clients\n",
    "personalize = boto3.client('personalize')\n",
    "servicediscovery = boto3.client('servicediscovery')\n",
    "ssm = boto3.client('ssm')"
   ]
  },
  {
   "cell_type": "markdown",
   "id": "22c0ea4a",
   "metadata": {},
   "source": [
    "The following cell will load the saved variables from the earlier foundational Personalize labs. The core personalization labs are required by this lab."
   ]
  },
  {
   "cell_type": "code",
   "execution_count": null,
   "id": "0086e08f",
   "metadata": {},
   "outputs": [],
   "source": [
    "%store -r"
   ]
  },
  {
   "cell_type": "markdown",
   "id": "9a020691",
   "metadata": {},
   "source": [
    "## Lookup working S3 bucket name\n",
    "\n",
    "We will stage the segmentation job input file on S3 and have the segmentation job output written to S3. We'll use the same S3 stack bucket used for other Personalize workshops. The bucket name is stored in SSM so let's lookup the value."
   ]
  },
  {
   "cell_type": "code",
   "execution_count": null,
   "id": "1f8aedfb",
   "metadata": {},
   "outputs": [],
   "source": [
    "bucketresponse = ssm.get_parameter(\n",
    "    Name='retaildemostore-stack-bucket'\n",
    ")\n",
    "\n",
    "# We will use this bucket to store our training data:\n",
    "bucket = bucketresponse['Parameter']['Value']     # Do Not Change\n",
    "\n",
    "print('Bucket: {}'.format(bucket))"
   ]
  },
  {
   "cell_type": "markdown",
   "id": "7d76582b",
   "metadata": {},
   "source": [
    "## Retrieve IP address of Products microservice\n",
    "\n",
    "We will use the featured products from the Retail Demo Store's catalog as the seed items to generate thematic descriptions. Let's get the local IP address of the Products microservice so we can call its API to retrieve products."
   ]
  },
  {
   "cell_type": "code",
   "execution_count": null,
   "id": "7ff0c7e9",
   "metadata": {},
   "outputs": [],
   "source": [
    "response = servicediscovery.discover_instances(\n",
    "    NamespaceName='retaildemostore.local',\n",
    "    ServiceName='products',\n",
    "    MaxResults=1,\n",
    "    HealthStatus='HEALTHY'\n",
    ")\n",
    "\n",
    "assert len(response['Instances']) > 0, 'Products service instance not found; check ECS to ensure it launched cleanly'\n",
    "\n",
    "products_service_instance = response['Instances'][0]['Attributes']['AWS_INSTANCE_IPV4']\n",
    "print('Products Service Instance IP: {}'.format(products_service_instance))"
   ]
  },
  {
   "cell_type": "markdown",
   "id": "469d54c1",
   "metadata": {},
   "source": [
    "## Load featured products into DataFrame\n",
    "\n",
    "Let's load all of the products from the Products microservice into Pandas dataframe and then isolate the featured products into their own dataframe. We'll be using the featured products to generate the themes."
   ]
  },
  {
   "cell_type": "code",
   "execution_count": null,
   "id": "694bc756",
   "metadata": {},
   "outputs": [],
   "source": [
    "response = requests.get('http://{}/products/all'.format(products_service_instance))\n",
    "products = response.json()\n",
    "products_df = pd.DataFrame(products)\n",
    "pd.set_option('display.max_rows', 5)\n",
    "\n",
    "# Isolate the featured products\n",
    "featured_df = products_df[products_df[\"featured\"] == 'true']\n",
    "featured_df"
   ]
  },
  {
   "cell_type": "markdown",
   "id": "3b4d95a4",
   "metadata": {},
   "source": [
    "## Prepare input file for batch inference job\n",
    "\n",
    "Next we will prepare a batch inference input file that includes the feature product item IDs. The maximum number of items allowed in a theme generation batch inference job is 100 so we'll be sure to limit the number of items we include in the input file. Batch inference jobs that do not include theme generation have a limit of 50M items.\n",
    "\n",
    "First, let's consider the format of the job input file. Below is a sample of the input file for a related items batch inference job for 3 items. The format is the same regardless of whether themes are being generated or not:\n",
    "\n",
    "```javascript\n",
    "{\"itemId\": \"2\"}\n",
    "{\"itemId\": \"4\"}\n",
    "{\"itemId\": \"6\"}\n",
    "```\n",
    "\n",
    "Notice that each item is represented on a single line as an independent JSON document. This is the [JSON Lines](https://jsonlines.org/) format. For our batch inference job, we will use the product IDs for featured products, being sure not to exceed the limit."
   ]
  },
  {
   "cell_type": "code",
   "execution_count": null,
   "id": "85e706ef",
   "metadata": {},
   "outputs": [],
   "source": [
    "featured_ids = featured_df['id'].tolist()[:100]\n",
    "print(featured_ids)"
   ]
  },
  {
   "cell_type": "code",
   "execution_count": null,
   "id": "83de00fa",
   "metadata": {},
   "outputs": [],
   "source": [
    "# Create and write job input file to disk\n",
    "json_input_filename = \"related_items_json_input.json\"\n",
    "with open(json_input_filename, 'w') as json_input:\n",
    "    for id in featured_ids:\n",
    "        json_input.write(f'{{\"itemId\": \"{id}\"}}\\n')"
   ]
  },
  {
   "cell_type": "markdown",
   "id": "85ff0f90",
   "metadata": {},
   "source": [
    "Display the job input file contents. As noted above, one very important characteristic of the job input file is that the JSON document for each `itemId` must be fully defined on its own line."
   ]
  },
  {
   "cell_type": "code",
   "execution_count": null,
   "id": "2efc4c66",
   "metadata": {},
   "outputs": [],
   "source": [
    "!cat $json_input_filename"
   ]
  },
  {
   "cell_type": "markdown",
   "id": "f6b36c4b",
   "metadata": {},
   "source": [
    "## Upload job input file to S3 bucket\n",
    "\n",
    "Before we can create a batch inference job to generate similar items and themes, we have to upload the job input file to our S3 bucket."
   ]
  },
  {
   "cell_type": "code",
   "execution_count": null,
   "id": "7c378c9f",
   "metadata": {},
   "outputs": [],
   "source": [
    "# Upload file to S3\n",
    "boto3.Session().resource('s3').Bucket(bucket).Object(json_input_filename).upload_file(json_input_filename)\n",
    "s3_input_path = \"s3://\" + bucket + \"/\" + json_input_filename\n",
    "print(s3_input_path)"
   ]
  },
  {
   "cell_type": "markdown",
   "id": "fb6886d5",
   "metadata": {},
   "source": [
    "## Define job output location\n",
    "\n",
    "We also need to define an output location in our S3 bucket where the batch inference job writes its output."
   ]
  },
  {
   "cell_type": "code",
   "execution_count": null,
   "id": "f1a0aa17",
   "metadata": {},
   "outputs": [],
   "source": [
    "# Define the output path\n",
    "s3_output_path = \"s3://\" + bucket + \"/related-items/similar-items/\"\n",
    "print(s3_output_path)"
   ]
  },
  {
   "cell_type": "markdown",
   "id": "6836c2c8",
   "metadata": {},
   "source": [
    "## Create batch inference job with theme generation\n",
    "\n",
    "Finally, we're ready to create a batch inference job that includes theme generation. There are several required parameters as well as optional parameters needed for theme generation.\n",
    "\n",
    "- The solution version ARN for the Similar-Items model we created in a prior lab (see Lab 3). Theme generation is currently limited to solution versions trained with the Similar-Items recipe.\n",
    "- The IAM role that Personalize needs to access the job input file and write the output file. This role was created by a CloudFormation template for this project.\n",
    "- The filter ARN that ensures that similar items are from the same category as the seed item (created in Lab 4).\n",
    "- A batch inference job mode of `THEME_GENERATION` that tells Personalize that we want themes created based on the the thematic similarity of related items for each seed item.\n",
    "- The theme generation configuration that tells Personalize which field/column in the items dataset represents the item name. We created the `PRODUCT_NAME` field in the items dataset schema in Lab 2.\n",
    "- Job input and output locations.\n",
    "- Limit the number of similar items for each seed item to 15 items."
   ]
  },
  {
   "cell_type": "code",
   "execution_count": null,
   "id": "7329f266",
   "metadata": {},
   "outputs": [],
   "source": [
    "response = personalize.create_batch_inference_job (\n",
    "    solutionVersionArn = similar_items_solution_version_arn,\n",
    "    jobName = \"retaildemostore-related-items_\" + str(round(time.time()*1000)),\n",
    "    roleArn = role_arn,\n",
    "    filterArn = include_category_filter_arn,\n",
    "    batchInferenceJobMode = \"THEME_GENERATION\",\n",
    "    themeGenerationConfig = {\n",
    "      \"fieldsForThemeGeneration\": {\n",
    "          \"itemName\": \"PRODUCT_NAME\"\n",
    "      }\n",
    "    },\n",
    "    jobInput = {\"s3DataSource\": {\"path\": s3_input_path}},\n",
    "    jobOutput = {\"s3DataDestination\":{\"path\": s3_output_path}},\n",
    "    numResults = 15\n",
    ")\n",
    "job_arn = response['batchInferenceJobArn']\n",
    "print(json.dumps(response, indent=2, default=str))"
   ]
  },
  {
   "cell_type": "markdown",
   "id": "d86f291c",
   "metadata": {},
   "source": [
    "## Wait for batch inference job to complete\n",
    "\n",
    "The batch inference job can take 20-30 minutes to complete. Even though our input file only specifies a few items, there is a certain amount of fixed overhead required for Personalize to provision the compute resources needed to execute the job. This overhead is amortized for larger input files that generate related items and themes for more items. The theme generation job type also requires more processing time to generate each theme."
   ]
  },
  {
   "cell_type": "code",
   "execution_count": null,
   "id": "f44c0cb2",
   "metadata": {},
   "outputs": [],
   "source": [
    "%%time\n",
    "\n",
    "max_time = time.time() + 3*60*60 # 3 hours\n",
    "while time.time() < max_time:\n",
    "    response = personalize.describe_batch_inference_job(\n",
    "        batchInferenceJobArn = job_arn\n",
    "    )\n",
    "    status = response[\"batchInferenceJob\"]['status']\n",
    "    print(\"BatchInferenceJob: {}\".format(status))\n",
    "\n",
    "    if status == \"ACTIVE\" or status == \"CREATE FAILED\":\n",
    "        break\n",
    "\n",
    "    time.sleep(60)"
   ]
  },
  {
   "cell_type": "markdown",
   "id": "30c8cbc6",
   "metadata": {},
   "source": [
    "## Download and inspect job output file\n",
    "\n",
    "Let's identify the output file in the output location in the S3 bucket, download the output file to the local volume, and display its contents."
   ]
  },
  {
   "cell_type": "code",
   "execution_count": null,
   "id": "a21ae405",
   "metadata": {
    "scrolled": false
   },
   "outputs": [],
   "source": [
    "s3 = boto3.client(\"s3\")\n",
    "\n",
    "job_start_time = response[\"batchInferenceJob\"][\"creationDateTime\"]\n",
    "\n",
    "response = s3.list_objects_v2(\n",
    "    Bucket=bucket,\n",
    "    Prefix=\"related-items/similar-items/\",\n",
    ")\n",
    "\n",
    "output_key_name = None\n",
    "\n",
    "for obj in response[\"Contents\"]:\n",
    "    if obj[\"LastModified\"] > job_start_time and obj[\"Key\"].endswith(\".out\"):\n",
    "        output_key_name = obj[\"Key\"]\n",
    "        break\n",
    "\n",
    "assert output_key_name is not None, \"Unable to locate the job output file in the output folder\"\n",
    "\n",
    "print(f\"Downloading output file {output_key_name} from {bucket}\")\n",
    "\n",
    "out_file = json_input_filename + \".out\"\n",
    "s3.download_file(bucket, output_key_name, out_file)\n",
    "\n",
    "print(\"Output file contents:\")\n",
    "!cat $out_file"
   ]
  },
  {
   "cell_type": "markdown",
   "id": "680a8213",
   "metadata": {},
   "source": [
    "Notice that the input seed item ID is echoed in the output file in the `input` element and we also have an `output` element for each seed item. The `output` element has a `recommendedItems` array that contains the related/similar item IDs for the seed item as well as a `theme` element and `itemsThemeRelevanceScores` array. The recommended items are ranked by the theme relevance score. The score is in a rough range of -0.1 and 0.6. The higher the score, the more closely related the item is to the theme. You might use the scores to set a threshold to show only items that are strongly related to the theme. The guidance is to use a threshold of 0.1 but you should evaluate the scores with your data. You can find the score for each recommended item in the `itemsThemeRelevanceScores` array where the index in the theme relevance array matches the index in the recommended items array."
   ]
  },
  {
   "cell_type": "markdown",
   "id": "1db078ef",
   "metadata": {},
   "source": [
    "## Inspect generated themes\n",
    "\n",
    "Let's take a look at the generated themes for the similar items for each seed item.\n",
    "\n",
    "The following cell will output details on each seed item including its generated theme and the theme relevancy score for each similar item.\n",
    "\n",
    "After running the cell below, here are some aspects to inspect.\n",
    "- Do the generated themes match the seed items?\n",
    "- Do the similar items for the seed item match the seed item and generated theme? Be sure to focus on the product description rather than the product image since the product description and name are the key inputs to the theme generation process.\n",
    "- For similar items that are not thematically similar to the seed item or theme, are the scores lower than items that are thematically similar? "
   ]
  },
  {
   "cell_type": "code",
   "execution_count": null,
   "id": "24f0f0e7",
   "metadata": {
    "scrolled": true
   },
   "outputs": [],
   "source": [
    "pd.options.display.max_rows = 15\n",
    "\n",
    "with open(out_file) as themes_file:\n",
    "    # Read all lines from the segmentation output file.\n",
    "    themes_lines = themes_file.readlines()\n",
    "\n",
    "    for idx, theme_line in enumerate(themes_lines):\n",
    "        theme_results = json.loads(theme_line)\n",
    "        item_id = theme_results[\"input\"][\"itemId\"]\n",
    "\n",
    "        if not \"output\" in theme_results:\n",
    "            if \"error\" in theme_results:\n",
    "                display(HTML(f'<div class=\"alert alert-block alert-danger\">Error generating similar items and theme for item {item_id}: {theme_results[\"error\"]}</div><hr/>'))\n",
    "            else:\n",
    "                display(HTML(f'<div class=\"alert alert-block alert-danger\">Unknown error generating similar items and theme for item {item_id}</div><hr/>'))\n",
    "\n",
    "            continue\n",
    "\n",
    "        similar_items = theme_results[\"output\"][\"recommendedItems\"]\n",
    "        theme = theme_results[\"output\"][\"theme\"]\n",
    "        theme_scores = theme_results[\"output\"][\"itemsThemeRelevanceScores\"]\n",
    "\n",
    "        item = featured_df.loc[featured_df[\"id\"] == item_id].iloc[0]\n",
    "\n",
    "        similar_items_df = pd.DataFrame()\n",
    "        for si_idx, similar_item_id in enumerate(similar_items):\n",
    "            similar_item = products_df.loc[products_df[\"id\"] == similar_item_id].iloc[0]\n",
    "            similar_item_info = {\n",
    "                \"image\": [ '<img width=\"200\" src=\"' + similar_item[\"image\"] + '\"/>' ],\n",
    "                \"item\": [ f'<h4>{similar_item[\"name\"]}</h4><i>{similar_item[\"description\"]}</i><br/>{similar_item_id}' ],\n",
    "                \"category\": [ similar_item[\"category\"] ],\n",
    "                \"score\": [ theme_scores[si_idx] ]\n",
    "            }\n",
    "\n",
    "            similar_items_df = pd.concat([similar_items_df, pd.DataFrame(data=similar_item_info)], axis=0, ignore_index=True)\n",
    "\n",
    "        # Display details on all users in the segment\n",
    "        display(HTML(f'<h2>Theme {idx + 1}: {theme}</h2>'))\n",
    "        display(HTML(f'<h3>Seed item {idx + 1}: {item[\"name\"]}</h3><p><i>{item[\"description\"]}</i><br/>{item_id}</p>'))\n",
    "        display(HTML(f'<img width=\"250\" src=\"{item[\"image\"]}\"/>'))\n",
    "        display(HTML(f'<h3>Similar items</h3>'))\n",
    "        display(HTML(similar_items_df.to_html(escape=False)))\n",
    "        display(HTML('<hr/>'))"
   ]
  },
  {
   "cell_type": "markdown",
   "id": "46a4882e",
   "metadata": {},
   "source": [
    "## Update product catalog with themes\n",
    "\n",
    "To put the generated themes to work in the Retail Demo Store web application, we'll update each of our featured products with the related items and generated theme via the Products service. This will allow the web application to display this information when it is available for a product.\n",
    "\n",
    "The following cell iterates over the batch inference output file again but this time will construct a PUT REST API call to the Products service. Notice too that it only includes recommended items with a theme relevance score above a minimum threshold. The IDs of the related items and the generated theme are persisted in the `related_items` and `related_items_theme` fields, respectively."
   ]
  },
  {
   "cell_type": "code",
   "execution_count": null,
   "id": "23d3d6c6",
   "metadata": {},
   "outputs": [],
   "source": [
    "# We will limit related items to those with a score >= 0.1\n",
    "score_threshold = 0.1\n",
    "\n",
    "with open(out_file) as themes_file:\n",
    "    # Read all lines from the segmentation output file.\n",
    "    themes_lines = themes_file.readlines()\n",
    "\n",
    "    for idx, theme_line in enumerate(themes_lines):\n",
    "        theme_results = json.loads(theme_line)\n",
    "        item_id = theme_results[\"input\"][\"itemId\"]\n",
    "        if not \"output\" in theme_results:\n",
    "            if \"error\" in theme_results:\n",
    "                print(f'Error generating similar items and theme for item {item_id}: {theme_results[\"error\"]}')\n",
    "            else:\n",
    "                print(f'Unknown error generating similar items and theme for item {item_id}')\n",
    "\n",
    "            continue\n",
    "\n",
    "        similar_items = theme_results[\"output\"][\"recommendedItems\"]\n",
    "        theme = theme_results[\"output\"][\"theme\"]\n",
    "        theme_scores = theme_results[\"output\"][\"itemsThemeRelevanceScores\"]\n",
    "\n",
    "        final_items = []\n",
    "        for idx_item, similar_item_id in enumerate(similar_items):\n",
    "            score = theme_scores[idx_item]\n",
    "            if score >= score_threshold:\n",
    "                final_items.append(similar_item_id)\n",
    "\n",
    "        response = requests.get(f\"http://{products_service_instance}/products/id/{item_id}\")\n",
    "        product = response.json()\n",
    "\n",
    "        if len(final_items) >= 3:\n",
    "            product[\"related_items_theme\"] = theme.rstrip(\".\")\n",
    "            product[\"related_items\"] = final_items\n",
    "        else:\n",
    "            print(f\"Not enough items with score >= {score_threshold} for item {item_id}; clearing related items fields for product\")\n",
    "            product.pop(\"related_items_theme\", None)\n",
    "            product.pop(\"related_items\", None)\n",
    "\n",
    "        print(f\"Updating related items for product {item_id}\")\n",
    "        headers = {\"Content-Type\": \"application/json\"}\n",
    "        response = requests.put(f\"http://{products_service_instance}/products/id/{item_id}\", json=product, headers=headers)\n",
    "        if not response.ok:\n",
    "            print(f\"status_code={response.status_code}\")\n",
    "\n",
    "print(\"Done updating products\")"
   ]
  },
  {
   "cell_type": "markdown",
   "id": "547b1198",
   "metadata": {},
   "source": [
    "Now let's read back the details for the last product updated to inspect the two new fields, `related_items` and `related_items_theme`, we just added to the product."
   ]
  },
  {
   "cell_type": "code",
   "execution_count": null,
   "id": "a6e73ee3",
   "metadata": {},
   "outputs": [],
   "source": [
    "response = requests.get(f\"http://{products_service_instance}/products/id/{item_id}\")\n",
    "product = response.json()\n",
    "print(json.dumps(product, indent=2))"
   ]
  },
  {
   "cell_type": "markdown",
   "id": "35cc2669",
   "metadata": {},
   "source": [
    "## Inspect thematic description and related items in web UI\n",
    "\n",
    "We can see our generated theme and related items in action on the product detail page in the Retail Demo Store UI. This page retrieves similar items from the Recommendations microservice and displays them below the product details. The Recommendations microservice has logic that will check the product record for the presence of a pre-generated theme and related items and return them. Otherwise, it will call real-time Personalize endpoints for models trained with the Similar-Items and Personalized-Ranking recipes to obtain related items and rerank them for the current user.\n",
    "\n",
    "Since we generated themes and related items for the featured products in the catalog, we just need to click on any product in the \"Featured products\" widget on the Retail Demo Store's homepage as shown below to get to the product detail page.\n",
    "\n",
    "![Click featured product](images/retaildemostore-content-generator-ex1.png)\n",
    "\n",
    "This takes us to the product detail page where we can see the generated theme and related items from the batch inference job we ran earlier.\n",
    "\n",
    "![Content Generator](images/retaildemostore-content-generator-ex2.png)\n",
    "\n",
    "For other products (i.e., not featured products), you will see the default similar items user experience. Additionally, if an A/B test is active for the product detail page, it will short-circuit the logic that displays the generated theme."
   ]
  },
  {
   "cell_type": "markdown",
   "id": "f61b92bb",
   "metadata": {},
   "source": [
    "## Lab complete\n",
    "\n",
    "Congratulations! You have completed the Personalize content generator lab."
   ]
  }
 ],
 "metadata": {
  "kernelspec": {
   "display_name": "conda_python3",
   "language": "python",
   "name": "conda_python3"
  },
  "language_info": {
   "codemirror_mode": {
    "name": "ipython",
    "version": 3
   },
   "file_extension": ".py",
   "mimetype": "text/x-python",
   "name": "python",
   "nbconvert_exporter": "python",
   "pygments_lexer": "ipython3",
   "version": "3.10.13"
  }
 },
 "nbformat": 4,
 "nbformat_minor": 5
}
